{
 "cells": [
  {
   "cell_type": "code",
   "execution_count": 1,
   "metadata": {},
   "outputs": [],
   "source": [
    "#authored by waitingfree 2022/2/4\n",
    "#KNN算法\n",
    "import numpy as np\n",
    "import pandas as pd\n",
    "import matplotlib.pyplot as plt"
   ]
  },
  {
   "cell_type": "code",
   "execution_count": 2,
   "metadata": {},
   "outputs": [],
   "source": [
    "#定义距离算法\n",
    "def distance(sample,dataset):\n",
    "    #print(\"利用广播机制，计算sample1到dataset全部的距离\")\n",
    "    data=np.sum((dataset-sample)**2,axis=1)\n",
    "    data=np.sqrt(np.float32(data))\n",
    "    return data\n",
    "#KNN算法\n",
    "def KNN(sample:pd.DataFrame,\n",
    "        data_train:pd.DataFrame,\n",
    "        k=5):\n",
    "    sample=np.array(sample)\n",
    "    #去掉标签后的array\n",
    "    sample_clone=sample[0:-1]\n",
    "    data_train_clone=data_train.iloc[0:int(data_train.var1.count()),0:4]\n",
    "    \n",
    "    #加上距离列并升序排序\n",
    "    my_didstance=distance(sample_clone,np.array(data_train_clone))\n",
    "    data_train.insert(0,'distance',my_didstance)#在数据的第1行加max距离\n",
    "    data_train.sort_values(by=\"distance\",ascending=True,inplace=True)#升序排列,原地取代\n",
    "    data_train_label=np.array(data_train['label'])\n",
    "    \n",
    "    #将前5个标签加入lst列表并找出最多的那个\n",
    "    lst=[]\n",
    "    for i in range(k):\n",
    "        lst.append(data_train_label[i])\n",
    "    predict=max(lst, key=lst.count)\n",
    "    \n",
    "    #返回预测和真实\n",
    "    lens=len(sample)\n",
    "    return predict,sample[lens-1:lens]"
   ]
  },
  {
   "cell_type": "code",
   "execution_count": 3,
   "metadata": {},
   "outputs": [],
   "source": [
    "#数据载入\n",
    "data = pd.read_csv('./dataset/Iris.txt',names=['var1','var2','var3','var4','label'])\n",
    "data = data.sample(frac = 1) #打乱样本\n",
    "data_size=data.var1.count()\n",
    "#划分训练集与测试集\n",
    "data_train=data.iloc[0:int(data_size/2),0:5]\n",
    "data_val=data.iloc[int(data_size/2):data_size,0:5]"
   ]
  },
  {
   "cell_type": "code",
   "execution_count": 4,
   "metadata": {},
   "outputs": [
    {
     "name": "stdout",
     "output_type": "stream",
     "text": [
      "75\n",
      "75\n"
     ]
    },
    {
     "data": {
      "text/html": [
       "<div>\n",
       "<style scoped>\n",
       "    .dataframe tbody tr th:only-of-type {\n",
       "        vertical-align: middle;\n",
       "    }\n",
       "\n",
       "    .dataframe tbody tr th {\n",
       "        vertical-align: top;\n",
       "    }\n",
       "\n",
       "    .dataframe thead th {\n",
       "        text-align: right;\n",
       "    }\n",
       "</style>\n",
       "<table border=\"1\" class=\"dataframe\">\n",
       "  <thead>\n",
       "    <tr style=\"text-align: right;\">\n",
       "      <th></th>\n",
       "      <th>var1</th>\n",
       "      <th>var2</th>\n",
       "      <th>var3</th>\n",
       "      <th>var4</th>\n",
       "      <th>label</th>\n",
       "    </tr>\n",
       "  </thead>\n",
       "  <tbody>\n",
       "    <tr>\n",
       "      <th>79</th>\n",
       "      <td>5.7</td>\n",
       "      <td>2.6</td>\n",
       "      <td>3.5</td>\n",
       "      <td>1.0</td>\n",
       "      <td>Iris-versicolor</td>\n",
       "    </tr>\n",
       "    <tr>\n",
       "      <th>1</th>\n",
       "      <td>4.9</td>\n",
       "      <td>3.0</td>\n",
       "      <td>1.4</td>\n",
       "      <td>0.2</td>\n",
       "      <td>Iris-setosa</td>\n",
       "    </tr>\n",
       "    <tr>\n",
       "      <th>37</th>\n",
       "      <td>4.9</td>\n",
       "      <td>3.1</td>\n",
       "      <td>1.5</td>\n",
       "      <td>0.1</td>\n",
       "      <td>Iris-setosa</td>\n",
       "    </tr>\n",
       "    <tr>\n",
       "      <th>20</th>\n",
       "      <td>5.4</td>\n",
       "      <td>3.4</td>\n",
       "      <td>1.7</td>\n",
       "      <td>0.2</td>\n",
       "      <td>Iris-setosa</td>\n",
       "    </tr>\n",
       "    <tr>\n",
       "      <th>123</th>\n",
       "      <td>6.3</td>\n",
       "      <td>2.7</td>\n",
       "      <td>4.9</td>\n",
       "      <td>1.8</td>\n",
       "      <td>Iris-virginica</td>\n",
       "    </tr>\n",
       "  </tbody>\n",
       "</table>\n",
       "</div>"
      ],
      "text/plain": [
       "     var1  var2  var3  var4            label\n",
       "79    5.7   2.6   3.5   1.0  Iris-versicolor\n",
       "1     4.9   3.0   1.4   0.2      Iris-setosa\n",
       "37    4.9   3.1   1.5   0.1      Iris-setosa\n",
       "20    5.4   3.4   1.7   0.2      Iris-setosa\n",
       "123   6.3   2.7   4.9   1.8   Iris-virginica"
      ]
     },
     "execution_count": 4,
     "metadata": {},
     "output_type": "execute_result"
    }
   ],
   "source": [
    "print(data_train.var1.count())\n",
    "print(data_val.var1.count())\n",
    "data_val.head()"
   ]
  },
  {
   "cell_type": "code",
   "execution_count": 5,
   "metadata": {},
   "outputs": [],
   "source": [
    "# data.plot.scatter('var1','var2',label='Iric')\n",
    "# plt.show()"
   ]
  },
  {
   "cell_type": "code",
   "execution_count": 6,
   "metadata": {},
   "outputs": [],
   "source": [
    "#测试距离函数的正确性\n",
    "# test1=np.array([[0,0,0,0]])\n",
    "# test2=np.array([[2.1,2,2,2],[1,1,1,1],[3,3,3,3]])\n",
    "# a=distance(test2,test1)\n",
    "# print(test1)\n",
    "# print(a)"
   ]
  },
  {
   "cell_type": "code",
   "execution_count": 8,
   "metadata": {},
   "outputs": [
    {
     "name": "stdout",
     "output_type": "stream",
     "text": [
      "分类错误================================:\n",
      " var1                  6\n",
      "var2                2.2\n",
      "var3                  5\n",
      "var4                1.5\n",
      "label    Iris-virginica\n",
      "Name: 119, dtype: object\n",
      "KNN预测值===============================:\n",
      "Iris-versicolor\n",
      "分类错误================================:\n",
      " var1                 5.9\n",
      "var2                 3.2\n",
      "var3                 4.8\n",
      "var4                 1.8\n",
      "label    Iris-versicolor\n",
      "Name: 70, dtype: object\n",
      "KNN预测值===============================:\n",
      "Iris-virginica\n",
      "KNN算法准确率： 0.9733333333333334\n"
     ]
    }
   ],
   "source": [
    "acc=0\n",
    "for i in range(data_val.var1.count()):\n",
    "    predict,true=KNN(data_val.iloc[i,0:5],data_train.copy())\n",
    "    if(predict==true):\n",
    "        acc+=1;\n",
    "    else:\n",
    "        print(\"分类错误================================:\\n\",data_val.iloc[i,0:5])\n",
    "        print(\"KNN预测值===============================:\")\n",
    "        print(predict)\n",
    "print(\"KNN算法准确率：\",acc/data_val.var1.count())"
   ]
  },
  {
   "cell_type": "code",
   "execution_count": null,
   "metadata": {},
   "outputs": [],
   "source": []
  }
 ],
 "metadata": {
  "kernelspec": {
   "display_name": "Python 3",
   "language": "python",
   "name": "python3"
  },
  "language_info": {
   "codemirror_mode": {
    "name": "ipython",
    "version": 3
   },
   "file_extension": ".py",
   "mimetype": "text/x-python",
   "name": "python",
   "nbconvert_exporter": "python",
   "pygments_lexer": "ipython3",
   "version": "3.8.5"
  }
 },
 "nbformat": 4,
 "nbformat_minor": 4
}
