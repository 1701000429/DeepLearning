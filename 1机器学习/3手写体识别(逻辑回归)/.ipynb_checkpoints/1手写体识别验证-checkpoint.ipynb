{
 "cells": [
  {
   "cell_type": "code",
   "execution_count": 1,
   "id": "dc599efe",
   "metadata": {},
   "outputs": [],
   "source": [
    "import numpy as np #科学计算向量库\n",
    "import pandas as pd #文件IO\n",
    "import matplotlib.pyplot as plt #导入画函数曲线的库\n",
    "import scipy.io as sio #高级文件IO\n",
    "from scipy.optimize import minimize"
   ]
  },
  {
   "cell_type": "code",
   "execution_count": 2,
   "id": "dd569372",
   "metadata": {},
   "outputs": [],
   "source": [
    "# 定义激活函数 logistic=1/[1+e^(-z)]\n",
    "def sigmoid(z):\n",
    "    #注意python的广播机制，这里的z可能不是一个数，而是一个numpy向量\n",
    "    return 1/(1+np.exp(-z));"
   ]
  },
  {
   "cell_type": "code",
   "execution_count": 3,
   "id": "ccf7e376",
   "metadata": {},
   "outputs": [],
   "source": [
    "# 定义模型的输出函数  f(假设函数)\n",
    "def predict(X,theta_final):\n",
    "    \n",
    "    h = sigmoid(X@theta_final) #(5000,401) (401,10) =>(5000,10)\n",
    "    \n",
    "    h_argmax = np.argmax(h,axis=1)\n",
    "    print(h_argmax.shape)\n",
    "    return h_argmax"
   ]
  },
  {
   "cell_type": "code",
   "execution_count": 4,
   "id": "3a1aa3a0",
   "metadata": {},
   "outputs": [],
   "source": [
    "def plot_an_image_and_predict(X,raw_X,theta_final):\n",
    "    pick_one = np.random.randint(5000) \n",
    "    image = raw_X[pick_one,:]\n",
    "    fig,ax = plt.subplots(figsize=(1,1))\n",
    "    ax.imshow(image.reshape(20,20).T,cmap = 'gray_r')\n",
    "    y_pred = predict(X[pick_one:pick_one+1,:],theta_final)\n",
    "    print(y_pred)\n",
    "    #plt.xticks([])\n",
    "    #plt.yticks([])"
   ]
  },
  {
   "cell_type": "code",
   "execution_count": 5,
   "id": "b722ce62",
   "metadata": {},
   "outputs": [
    {
     "ename": "FileNotFoundError",
     "evalue": "[Errno 2] No such file or directory: 'LogisticWeight'",
     "output_type": "error",
     "traceback": [
      "\u001b[1;31m---------------------------------------------------------------------------\u001b[0m",
      "\u001b[1;31mFileNotFoundError\u001b[0m                         Traceback (most recent call last)",
      "\u001b[1;32m<ipython-input-5-3a61dbcee8da>\u001b[0m in \u001b[0;36m<module>\u001b[1;34m\u001b[0m\n\u001b[0;32m      5\u001b[0m \u001b[0mX\u001b[0m  \u001b[1;33m=\u001b[0m \u001b[0mnp\u001b[0m\u001b[1;33m.\u001b[0m\u001b[0minsert\u001b[0m\u001b[1;33m(\u001b[0m\u001b[0mraw_X\u001b[0m\u001b[1;33m,\u001b[0m\u001b[1;36m0\u001b[0m\u001b[1;33m,\u001b[0m\u001b[0mvalues\u001b[0m\u001b[1;33m=\u001b[0m\u001b[1;36m1\u001b[0m\u001b[1;33m,\u001b[0m\u001b[0maxis\u001b[0m\u001b[1;33m=\u001b[0m\u001b[1;36m1\u001b[0m\u001b[1;33m)\u001b[0m\u001b[1;31m#在第0列插入一列1\u001b[0m\u001b[1;33m\u001b[0m\u001b[1;33m\u001b[0m\u001b[0m\n\u001b[0;32m      6\u001b[0m \u001b[0my\u001b[0m \u001b[1;33m=\u001b[0m \u001b[0mraw_y\u001b[0m\u001b[1;33m.\u001b[0m\u001b[0mflatten\u001b[0m\u001b[1;33m(\u001b[0m\u001b[1;33m)\u001b[0m\u001b[1;33m\u001b[0m\u001b[1;33m\u001b[0m\u001b[0m\n\u001b[1;32m----> 7\u001b[1;33m \u001b[0mtheta_final\u001b[0m\u001b[1;33m=\u001b[0m\u001b[0mnp\u001b[0m\u001b[1;33m.\u001b[0m\u001b[0mload\u001b[0m\u001b[1;33m(\u001b[0m\u001b[1;34m'LogisticWeight'\u001b[0m\u001b[1;33m)\u001b[0m\u001b[1;33m\u001b[0m\u001b[1;33m\u001b[0m\u001b[0m\n\u001b[0m\u001b[0;32m      8\u001b[0m \u001b[0my_pred\u001b[0m \u001b[1;33m=\u001b[0m \u001b[0mpredict\u001b[0m\u001b[1;33m(\u001b[0m\u001b[0mX\u001b[0m\u001b[1;33m,\u001b[0m\u001b[0mtheta_final\u001b[0m\u001b[1;33m)\u001b[0m\u001b[1;33m\u001b[0m\u001b[1;33m\u001b[0m\u001b[0m\n\u001b[0;32m      9\u001b[0m \u001b[0macc\u001b[0m \u001b[1;33m=\u001b[0m \u001b[0mnp\u001b[0m\u001b[1;33m.\u001b[0m\u001b[0mmean\u001b[0m\u001b[1;33m(\u001b[0m\u001b[0my_pred\u001b[0m \u001b[1;33m==\u001b[0m \u001b[0my\u001b[0m\u001b[1;33m)\u001b[0m\u001b[1;33m\u001b[0m\u001b[1;33m\u001b[0m\u001b[0m\n",
      "\u001b[1;32mE:\\SoftWare\\Anaconda\\lib\\site-packages\\numpy\\lib\\npyio.py\u001b[0m in \u001b[0;36mload\u001b[1;34m(file, mmap_mode, allow_pickle, fix_imports, encoding)\u001b[0m\n\u001b[0;32m    415\u001b[0m             \u001b[0mown_fid\u001b[0m \u001b[1;33m=\u001b[0m \u001b[1;32mFalse\u001b[0m\u001b[1;33m\u001b[0m\u001b[1;33m\u001b[0m\u001b[0m\n\u001b[0;32m    416\u001b[0m         \u001b[1;32melse\u001b[0m\u001b[1;33m:\u001b[0m\u001b[1;33m\u001b[0m\u001b[1;33m\u001b[0m\u001b[0m\n\u001b[1;32m--> 417\u001b[1;33m             \u001b[0mfid\u001b[0m \u001b[1;33m=\u001b[0m \u001b[0mstack\u001b[0m\u001b[1;33m.\u001b[0m\u001b[0menter_context\u001b[0m\u001b[1;33m(\u001b[0m\u001b[0mopen\u001b[0m\u001b[1;33m(\u001b[0m\u001b[0mos_fspath\u001b[0m\u001b[1;33m(\u001b[0m\u001b[0mfile\u001b[0m\u001b[1;33m)\u001b[0m\u001b[1;33m,\u001b[0m \u001b[1;34m\"rb\"\u001b[0m\u001b[1;33m)\u001b[0m\u001b[1;33m)\u001b[0m\u001b[1;33m\u001b[0m\u001b[1;33m\u001b[0m\u001b[0m\n\u001b[0m\u001b[0;32m    418\u001b[0m             \u001b[0mown_fid\u001b[0m \u001b[1;33m=\u001b[0m \u001b[1;32mTrue\u001b[0m\u001b[1;33m\u001b[0m\u001b[1;33m\u001b[0m\u001b[0m\n\u001b[0;32m    419\u001b[0m \u001b[1;33m\u001b[0m\u001b[0m\n",
      "\u001b[1;31mFileNotFoundError\u001b[0m: [Errno 2] No such file or directory: 'LogisticWeight'"
     ]
    }
   ],
   "source": [
    "# 从ex3data1.mat读数据，并结构化X  theta  y\n",
    "data=sio.loadmat('ex3data1.mat') #读入数据，数据格式为（key,value）\n",
    "raw_X=data['X']\n",
    "raw_y=data['y']\n",
    "X  = np.insert(raw_X,0,values=1,axis=1)#在第0列插入一列1\n",
    "y = raw_y.flatten()\n",
    "theta_final=np.load('LogisticWeight.npy')\n",
    "y_pred = predict(X,theta_final)\n",
    "acc = np.mean(y_pred == y)\n",
    "print(acc)"
   ]
  },
  {
   "cell_type": "code",
   "execution_count": null,
   "id": "62c03768",
   "metadata": {},
   "outputs": [],
   "source": [
    "plot_an_image_and_predict(X,raw_X,theta_final)"
   ]
  }
 ],
 "metadata": {
  "kernelspec": {
   "display_name": "Python 3",
   "language": "python",
   "name": "python3"
  },
  "language_info": {
   "codemirror_mode": {
    "name": "ipython",
    "version": 3
   },
   "file_extension": ".py",
   "mimetype": "text/x-python",
   "name": "python",
   "nbconvert_exporter": "python",
   "pygments_lexer": "ipython3",
   "version": "3.8.8"
  }
 },
 "nbformat": 4,
 "nbformat_minor": 5
}
