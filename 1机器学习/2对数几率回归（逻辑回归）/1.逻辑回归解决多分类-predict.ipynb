{
 "cells": [
  {
   "cell_type": "code",
   "execution_count": null,
   "id": "6be0086f",
   "metadata": {},
   "outputs": [],
   "source": [
    "import numpy as np #科学计算向量库\n",
    "import pandas as pd #文件IO\n",
    "import matplotlib.pyplot as plt #导入画函数曲线的库\n",
    "import scipy.io as sio #高级文件IO\n",
    "from scipy.optimize import minimize"
   ]
  },
  {
   "cell_type": "code",
   "execution_count": null,
   "id": "6af9beb3",
   "metadata": {},
   "outputs": [],
   "source": [
    "# 定义激活函数 logistic=1/[1+e^(-z)]\n",
    "def sigmoid(z):\n",
    "    #注意python的广播机制，这里的z可能不是一个数，而是一个numpy向量\n",
    "    return 1/(1+np.exp(-z));"
   ]
  },
  {
   "cell_type": "code",
   "execution_count": null,
   "id": "822b869d",
   "metadata": {},
   "outputs": [],
   "source": [
    "# 定义模型（假设函数） hypothesis=sigmoid(X*theta)\n",
    "def hypothesis(X,theta):\n",
    "    return sigmoid(X@theta)"
   ]
  },
  {
   "cell_type": "code",
   "execution_count": null,
   "id": "8a392849",
   "metadata": {},
   "outputs": [],
   "source": [
    "def plot_an_image_and_predict(X,raw_X,theta_final):\n",
    "    pick_one = np.random.randint(5000) \n",
    "    image = raw_X[pick_one,:]\n",
    "    fig,ax = plt.subplots(figsize=(1,1))\n",
    "    ax.imshow(image.reshape(20,20).T,cmap = 'gray_r')\n",
    "    y_pred = predict(X[pick_one:pick_one+1,:],theta_final)\n",
    "    print(y_pred)\n",
    "    #plt.xticks([])\n",
    "    #plt.yticks([])"
   ]
  },
  {
   "cell_type": "code",
   "execution_count": null,
   "id": "13f87ae4",
   "metadata": {},
   "outputs": [],
   "source": [
    "np.load('Parameter',theta_final)\n",
    "# 从ex3data1.mat读数据，并结构化X  theta  y\n",
    "data=sio.loadmat('ex3data1.mat') #读入数据，数据格式为（key,value）\n",
    "raw_X=data['X']\n",
    "raw_y=data['y']\n",
    "X  = np.insert(raw_X,0,values=1,axis=1)#在第0列插入一列1\n",
    "y = raw_y.flatten()"
   ]
  },
  {
   "cell_type": "code",
   "execution_count": null,
   "id": "5f0705f7",
   "metadata": {},
   "outputs": [],
   "source": [
    "y_pred = predict(X,theta_final)\n",
    "acc = np.mean(y_pred == y)\n",
    "print(acc)"
   ]
  }
 ],
 "metadata": {
  "kernelspec": {
   "display_name": "Python 3",
   "language": "python",
   "name": "python3"
  },
  "language_info": {
   "codemirror_mode": {
    "name": "ipython",
    "version": 3
   },
   "file_extension": ".py",
   "mimetype": "text/x-python",
   "name": "python",
   "nbconvert_exporter": "python",
   "pygments_lexer": "ipython3",
   "version": "3.8.8"
  }
 },
 "nbformat": 4,
 "nbformat_minor": 5
}
