{
 "cells": [
  {
   "cell_type": "markdown",
   "metadata": {},
   "source": [
    "# Pytorch操作数据集"
   ]
  },
  {
   "cell_type": "code",
   "execution_count": 3,
   "metadata": {},
   "outputs": [],
   "source": [
    "%matplotlib inline\n",
    "\n",
    "import torch\n",
    "import torchvision\n",
    "import torchvision.transforms as transforms\n",
    "from PIL import Image"
   ]
  },
  {
   "cell_type": "markdown",
   "metadata": {},
   "source": [
    "## 通过transform把图像数据映射到[-1,1), 因为x=0有较大的梯度"
   ]
  },
  {
   "cell_type": "code",
   "execution_count": 14,
   "metadata": {},
   "outputs": [
    {
     "name": "stdout",
     "output_type": "stream",
     "text": [
      "<class 'PIL.PngImagePlugin.PngImageFile'>\n",
      "(1344, 1010)\n",
      "<class 'PIL.Image.Image'>\n",
      "(15, 12)\n"
     ]
    }
   ],
   "source": [
    "#1.定义数据变换格式(tensor格式，归一化，裁剪等等)\n",
    "transform = transforms.Compose(\n",
    "    [transforms.ToTensor(),  #transforms.ToTensor(),已经将数据映射到[0,1）\n",
    "     transforms.Normalize(mean=(0.5, 0.5, 0.5), std=(0.5, 0.5, 0.5))])#这一步变成[-1,1) 原因如下：\n",
    "#input[channel] = (input[channel] - mean[channel]) / std[channel]\n",
    "\n",
    "\n",
    "#一些图像转化案例（大小转变,）\n",
    "crop = transforms.Resize(12)\n",
    "img = Image.open('test.png')\n",
    "\n",
    "print(type(img))\n",
    "print(img.size)\n",
    "img.show()\n",
    "croped_img=crop(img)\n",
    "print(type(croped_img))\n",
    "print(croped_img.size)\n",
    "croped_img.show()\n",
    "\n",
    "trans=transforms.RandomHorizontalFlip(0.7) #0.7的概率反转\n",
    "trans_img=trans(img)\n",
    "trans_img.show()\n",
    "\n",
    "#接下来演示padding的各种用法\n",
    "#torchvision.transforms.Pad(padding, fill=0, padding_mode='constant')\n"
   ]
  },
  {
   "cell_type": "code",
   "execution_count": null,
   "metadata": {},
   "outputs": [],
   "source": []
  }
 ],
 "metadata": {
  "kernelspec": {
   "display_name": "Python 3",
   "language": "python",
   "name": "python3"
  },
  "language_info": {
   "codemirror_mode": {
    "name": "ipython",
    "version": 3
   },
   "file_extension": ".py",
   "mimetype": "text/x-python",
   "name": "python",
   "nbconvert_exporter": "python",
   "pygments_lexer": "ipython3",
   "version": "3.8.5"
  }
 },
 "nbformat": 4,
 "nbformat_minor": 4
}
